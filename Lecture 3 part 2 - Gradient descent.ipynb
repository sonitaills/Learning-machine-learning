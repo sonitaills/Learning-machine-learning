{
 "cells": [
  {
   "cell_type": "code",
   "execution_count": 2,
   "metadata": {},
   "outputs": [],
   "source": [
    "import numpy as np\n",
    "import pandas as pd\n",
    "from sklearn import datasets"
   ]
  },
  {
   "cell_type": "code",
   "execution_count": 4,
   "metadata": {},
   "outputs": [],
   "source": [
    "def f(X,theta):\n",
    "    \"\"\"The linear model we are trying to fit\n",
    "    \n",
    "    Parameters:\n",
    "    theta(np.array) = d-dimensional vector of parameters\n",
    "    X (np.array) = (n,d) - dimensional data matrix\n",
    "    \n",
    "    Returns:\n",
    "    y_pred (np.array) = n-dimensional vector of predicted targets\n",
    "    \"\"\"\n",
    "    return X.dot(theta)"
   ]
  },
  {
   "cell_type": "code",
   "execution_count": 5,
   "metadata": {},
   "outputs": [],
   "source": [
    "def mean_squared_error(theta,X,y):\n",
    "    \"\"\"The cost function J(tjeta0, theta1) describing the goodness of the fit\n",
    "    Parameters:\n",
    "    theta(np.array): d-dimensional vector of parameters\n",
    "    X (np.array): (n,d)-dimensional design matrix\n",
    "    y (np.array)? n-dimensional vector of targets    \n",
    "    \"\"\"\n",
    "    \n",
    "    return 0.5*np.mean((y-f(X,theta))**2)"
   ]
  },
  {
   "cell_type": "code",
   "execution_count": 7,
   "metadata": {},
   "outputs": [],
   "source": [
    "def mse_gradient(theta, X, y):\n",
    "    \"\"\"The cost function, J(theta0, theta1) describing the goodness of fit\n",
    "    \n",
    "    Parameters:\n",
    "    theta(np.array): d-dimensional vector of parameters\n",
    "    X (np.array): (n,d)-dimensional design matrix\n",
    "    y (np.array)? n-dimensional vector of targets \n",
    "    \n",
    "    Returns:\n",
    "    grad (np.array): d-dimensional gradient of the MSE\n",
    "    \"\"\"\n",
    "    return np.mean((f(X,theta)-y)*X.T, axis=1)"
   ]
  },
  {
   "cell_type": "code",
   "execution_count": 20,
   "metadata": {},
   "outputs": [
    {
     "data": {
      "text/plain": [
       "Text(0, 0.5, 'Diabetes risk')"
      ]
     },
     "execution_count": 20,
     "metadata": {},
     "output_type": "execute_result"
    },
    {
     "data": {
      "image/png": "[encoded data removed]",
      "text/plain": [
       "<Figure size 576x288 with 1 Axes>"
      ]
     },
     "metadata": {
      "needs_background": "light"
     },
     "output_type": "display_data"
    }
   ],
   "source": [
    "%matplotlib inline\n",
    "import matplotlib.pyplot as plt\n",
    "plt.rcParams['figure.figsize'] = [8,4]\n",
    "\n",
    "#Load diabetes datase\n",
    "X,y  = datasets.load_diabetes(return_X_y=True, as_frame = True)\n",
    "\n",
    "#add na extra column\n",
    "X['one'] = 1\n",
    "\n",
    "#Collect 20 data points and only use bmi dimension\n",
    "X_train = X[['bmi','one']].iloc[-20:]\n",
    "y_train = y.iloc[-20:]/300\n",
    "\n",
    "plt.scatter(X_train.bmi, y_train, color = 'black')\n",
    "plt.xlabel('BMI')\n",
    "plt.ylabel('Diabetes risk')"
   ]
  },
  {
   "cell_type": "code",
   "execution_count": 23,
   "metadata": {},
   "outputs": [
    {
     "name": "stdout",
     "output_type": "stream",
     "text": [
      "Iteration 0. MSE: 0.171729\n",
      "Iteration 100. MSE: 0.014765\n",
      "Iteration 200. MSE: 0.014349\n",
      "Iteration 300. MSE: 0.013997\n",
      "Iteration 400. MSE: 0.013701\n",
      "Iteration 500. MSE: 0.013450\n",
      "Iteration 600. MSE: 0.013238\n",
      "Iteration 700. MSE: 0.013060\n",
      "Iteration 800. MSE: 0.012909\n",
      "Iteration 900. MSE: 0.012781\n",
      "Iteration 994. MSE: 0.012680\n"
     ]
    }
   ],
   "source": [
    "threshold = 1e-6\n",
    "step_size = 4e-1\n",
    "theta, theta_prev = np.array([2,1]), np.ones(2,)\n",
    "opt_pts = [theta]\n",
    "opt_grads = []\n",
    "iter = 0\n",
    "\n",
    "while abs(mean_squared_error(theta, X_train, y_train) - mean_squared_error(theta_prev, X_train, y_train))>threshold:\n",
    "    if iter%100 ==0:\n",
    "        print('Iteration %d. MSE: %.6f' % (iter, mean_squared_error(theta, X_train, y_train)))\n",
    "    theta_prev = theta\n",
    "    gradient = mse_gradient(theta, X_train, y_train)\n",
    "    theta = theta_prev - step_size*gradient\n",
    "    opt_pts += [theta]\n",
    "    opt_grads += [gradient]\n",
    "    iter +=1\n",
    "print('Iteration %d. MSE: %.6f' % (iter, mean_squared_error(theta, X_train, y_train)))"
   ]
  },
  {
   "cell_type": "code",
   "execution_count": 37,
   "metadata": {},
   "outputs": [
    {
     "data": {
      "text/plain": [
       "Text(0, 0.5, 'Diabetes Risk')"
      ]
     },
     "execution_count": 37,
     "metadata": {},
     "output_type": "execute_result"
    },
    {
     "data": {
      "image/png": "[encoded data removed]",
      "text/plain": [
       "<Figure size 576x288 with 1 Axes>"
      ]
     },
     "metadata": {
      "needs_background": "light"
     },
     "output_type": "display_data"
    }
   ],
   "source": [
    "x_line = np.stack([np.linspace(-0.1,0.1,10), np.ones(10,)])\n",
    "y_line = opt_pts[-1].dot(x_line)\n",
    "\n",
    "#opt_pts generated two values. If you think of it as y = ax+b, one value corresponds to a and other to b\n",
    "#the x_line matrix had to have a np.ones to account for the constant value of b during the dot product\n",
    "\n",
    "plt.scatter(X_train.bmi, y_train, color = 'black')\n",
    "plt.plot(x_line[0], y_line)\n",
    "plt.xlabel('BMI')\n",
    "plt.ylabel('Diabetes Risk')"
   ]
  },
  {
   "cell_type": "code",
   "execution_count": null,
   "metadata": {},
   "outputs": [],
   "source": []
  },
  {
   "cell_type": "code",
   "execution_count": null,
   "metadata": {},
   "outputs": [],
   "source": []
  },
  {
   "cell_type": "code",
   "execution_count": null,
   "metadata": {},
   "outputs": [],
   "source": []
  },
  {
   "cell_type": "code",
   "execution_count": null,
   "metadata": {},
   "outputs": [],
   "source": []
  }
 ],
 "metadata": {
  "kernelspec": {
   "display_name": "Python 3",
   "language": "python",
   "name": "python3"
  },
  "language_info": {
   "codemirror_mode": {
    "name": "ipython",
    "version": 3
   },
   "file_extension": ".py",
   "mimetype": "text/x-python",
   "name": "python",
   "nbconvert_exporter": "python",
   "pygments_lexer": "ipython3",
   "version": "3.8.5"
  }
 },
 "nbformat": 4,
 "nbformat_minor": 4
}
